{
  "nbformat": 4,
  "nbformat_minor": 0,
  "metadata": {
    "colab": {
      "provenance": [],
      "authorship_tag": "ABX9TyPgwQ6dbYLZL3YoQkEuHayP",
      "include_colab_link": true
    },
    "kernelspec": {
      "name": "python3",
      "display_name": "Python 3"
    },
    "language_info": {
      "name": "python"
    }
  },
  "cells": [
    {
      "cell_type": "markdown",
      "metadata": {
        "id": "view-in-github",
        "colab_type": "text"
      },
      "source": [
        "<a href=\"https://colab.research.google.com/github/jopedro0/atividades-em-python/blob/main/exercicios.ipynb\" target=\"_parent\"><img src=\"https://colab.research.google.com/assets/colab-badge.svg\" alt=\"Open In Colab\"/></a>"
      ]
    },
    {
      "cell_type": "code",
      "execution_count": null,
      "metadata": {
        "colab": {
          "base_uri": "https://localhost:8080/"
        },
        "id": "706YsuDLe3RW",
        "outputId": "0f2d76b8-067f-48cd-dd6b-8650986775aa"
      },
      "outputs": [
        {
          "output_type": "stream",
          "name": "stdout",
          "text": [
            "digite um número:5\n",
            "o sucessor de 5 é 6, e seu antecessor é 4\n"
          ]
        }
      ],
      "source": [
        "n = int(input('digite um número:'))\n",
        "\n",
        "print(f'o sucessor de {n} é {n+1} e seu antecessor é {n-1}')\n",
        "\n"
      ]
    },
    {
      "cell_type": "code",
      "source": [
        "n = int(input('digite um número:'))\n",
        "\n",
        "print(f'o dobro de {n} é {n*2}, o triplo é {n*3} e sua raiz quadrada é {n**(1/2)}')"
      ],
      "metadata": {
        "colab": {
          "base_uri": "https://localhost:8080/"
        },
        "id": "oplQraJ8uKuE",
        "outputId": "b5f71bc6-860d-4ecc-e6a2-bae768cf6c6a"
      },
      "execution_count": null,
      "outputs": [
        {
          "output_type": "stream",
          "name": "stdout",
          "text": [
            "digite um número:144\n",
            "o dobro de 144 é 288, o triplo é 432 e sua raiz quadrada é 12.0\n"
          ]
        }
      ]
    },
    {
      "cell_type": "code",
      "source": [
        "n1 = float(input('nota 1:'))\n",
        "n2 = float(input('nota2:'))\n",
        "m = (n1+n2)/2\n",
        "print(f'sua média é: {m}')\n"
      ],
      "metadata": {
        "colab": {
          "base_uri": "https://localhost:8080/"
        },
        "id": "su-ys0BHupKX",
        "outputId": "2e894425-fc40-4e25-fecc-0a47ab388e93"
      },
      "execution_count": null,
      "outputs": [
        {
          "output_type": "stream",
          "name": "stdout",
          "text": [
            "nota 1:3\n",
            "nota2:4\n",
            "sua média é: 3.5\n"
          ]
        }
      ]
    },
    {
      "cell_type": "code",
      "source": [
        "m = float(input('digite um valor em metros: '))\n",
        "cm = m*100\n",
        "mm = m*1000\n",
        "\n",
        "print(f'{m} metros equivale a {cm} centímetros ou {mm} milimetros')"
      ],
      "metadata": {
        "colab": {
          "base_uri": "https://localhost:8080/"
        },
        "id": "aCozkfIPwEyp",
        "outputId": "07212d9c-f8e9-457a-b5aa-71ecc319726c"
      },
      "execution_count": null,
      "outputs": [
        {
          "output_type": "stream",
          "name": "stdout",
          "text": [
            "digite um valor em metros: 5.4\n",
            "5.4 metros equivale a 540.0 centímetros ou 5400.0 milimetros\n"
          ]
        }
      ]
    },
    {
      "cell_type": "code",
      "source": [
        "n = int(input('digite para saber sua tabuada:'))\n",
        "\n",
        "print(f'A tabuada de {n} é : \\n |{n*1}|\\n |{n*2}|\\n |{n*3}|\\n |{n*4}|\\n |{n*5}|\\n |{n*6}|\\n |{n*7}|\\n |{n*8}|\\n |{n*9}|\\n |{n*10}|')"
      ],
      "metadata": {
        "colab": {
          "base_uri": "https://localhost:8080/"
        },
        "id": "3ctU-AtpxcNm",
        "outputId": "67026f21-1bd0-4e84-be01-ea0ed65ea683"
      },
      "execution_count": null,
      "outputs": [
        {
          "output_type": "stream",
          "name": "stdout",
          "text": [
            "digite para saber sua tabuada:9\n",
            "A tabuada de 9 é : \n",
            " |9|\n",
            " |18|\n",
            " |27|\n",
            " |36|\n",
            " |45|\n",
            " |54|\n",
            " |63|\n",
            " |72|\n",
            " |81|\n",
            " |90|\n"
          ]
        }
      ]
    },
    {
      "cell_type": "code",
      "source": [
        "r = int(input('quantos reais você tem na carteira? '))\n",
        "d = r//4.90\n",
        "\n",
        "print(f'{r} reais equiavle a {d} dolares')\n"
      ],
      "metadata": {
        "colab": {
          "base_uri": "https://localhost:8080/"
        },
        "id": "izfFWfYn0oKg",
        "outputId": "c192329b-de5c-4f1d-c82e-d9d34fca473c"
      },
      "execution_count": null,
      "outputs": [
        {
          "output_type": "stream",
          "name": "stdout",
          "text": [
            "quantos reais você tem na carteira? 30\n",
            "30 reais equiavle a 6.0 dolares\n"
          ]
        }
      ]
    },
    {
      "cell_type": "code",
      "source": [
        "from re import A\n",
        "l = float(input('digite a lagura da parede: '))\n",
        "a = float(input('digite a altura da parede: '))\n",
        "ap = l*a\n",
        "tn = ap/2\n",
        "\n",
        "print(f'Sua parede tem {ap} metros quadrados. São necessários {tn} litros de tinta para pinta-la.')\n"
      ],
      "metadata": {
        "colab": {
          "base_uri": "https://localhost:8080/"
        },
        "id": "2MTLVtIx4pEF",
        "outputId": "cea6a237-eb07-4cb6-c53e-ed7396f0d4cb"
      },
      "execution_count": null,
      "outputs": [
        {
          "output_type": "stream",
          "name": "stdout",
          "text": [
            "digite a lagura da parede: 2.5\n",
            "digite a altura da parede: 1.75\n",
            "Sua parede tem 4.375 metros quadrados. São necessários 2.1875 litros de tinta para pinta-la.\n"
          ]
        }
      ]
    },
    {
      "cell_type": "code",
      "source": [
        "p = float(input('digite o preço de um produto: '))\n",
        "np = p-(p*5/100)\n",
        "print(f'com um desconto de 5% o novo preço do produto é:{np}')\n"
      ],
      "metadata": {
        "colab": {
          "base_uri": "https://localhost:8080/"
        },
        "id": "dh89joZM9qIG",
        "outputId": "f73d4955-eb27-4c6e-97c5-bef5dd500204"
      },
      "execution_count": null,
      "outputs": [
        {
          "output_type": "stream",
          "name": "stdout",
          "text": [
            "digite o preço de um produto: 546\n",
            "com um desconto de 5% o novo preço do produto é:518.7\n"
          ]
        }
      ]
    },
    {
      "cell_type": "code",
      "source": [
        "s = int(input('qual é o seu salário: '))\n",
        "ns = s+(s*15/100)\n",
        "\n",
        "print(f'Após um aumento de 15%, seu salário atual é {ns}')\n"
      ],
      "metadata": {
        "colab": {
          "base_uri": "https://localhost:8080/"
        },
        "id": "ReS2GhzyEscA",
        "outputId": "69e10d5b-0b8e-484f-ce8c-dc7c40cc73f2"
      },
      "execution_count": null,
      "outputs": [
        {
          "output_type": "stream",
          "name": "stdout",
          "text": [
            "qual é o seu salário: 4319\n",
            "Após um aumento de 15%, seu salário atual é 4966.85\n"
          ]
        }
      ]
    },
    {
      "cell_type": "code",
      "source": [
        "c = float(input('qual a temperatura em celsius:'))\n",
        "f = (c * 9/5)+32\n",
        "k = c + 273.15\n",
        "\n",
        "print('Em qual escala vocẽ deseja ver a temperatura atual? \\n')\n",
        "\n",
        "t = str(input())\n",
        "\n",
        "if t == 'kelvin'  :\n",
        "  print(f'A temperatura atual de {c} graus celsius, covertida para kelvin é de {k} graus kelvin')\n",
        "\n",
        "elif t == 'fahrenheit' or 'fh' :\n",
        "  print(f'A temperatura atual de {c} graus celsuis, convertida para fahrenheint é de {f} graus fahrenheint')\n"
      ],
      "metadata": {
        "colab": {
          "base_uri": "https://localhost:8080/"
        },
        "id": "Eyj-ApC9K0rh",
        "outputId": "e7b5d979-af71-43b5-babd-f240b156c47b"
      },
      "execution_count": 14,
      "outputs": [
        {
          "output_type": "stream",
          "name": "stdout",
          "text": [
            "qual a temperatura em celsius:77\n",
            "Em qual escala vocẽ deseja ver a temperatura atual? \n",
            "\n",
            "fh\n",
            "A temperatura atual de 77.0 graus celsius, covertida para kelvin é de 350.15 graus kelvin\n"
          ]
        }
      ]
    },
    {
      "cell_type": "code",
      "source": [
        "d = int(input('quantos dias o carro ficou alugado:'))\n",
        "km = float(input('quantos km foram rodados:'))\n",
        "tp = (d*60) + (km*0.15)\n",
        "\n",
        "print(f'o total a pagar é de {tp}R$')\n"
      ],
      "metadata": {
        "colab": {
          "base_uri": "https://localhost:8080/"
        },
        "id": "HrdcfA4MRvCv",
        "outputId": "46cea1b3-6142-4ac4-c926-781e07cc3cca"
      },
      "execution_count": null,
      "outputs": [
        {
          "output_type": "stream",
          "name": "stdout",
          "text": [
            "quantos dias o carro ficou alugado:4\n",
            "quantos km foram rodados:300\n",
            "o total a pagar é de 285.0R$\n"
          ]
        }
      ]
    },
    {
      "cell_type": "code",
      "source": [
        "from math import trunc\n",
        "num = float(input('digite um número: '))\n",
        "ni = trunc(num)\n",
        "\n",
        "print(f'o número {num} tem a parte inteira {ni}')"
      ],
      "metadata": {
        "colab": {
          "base_uri": "https://localhost:8080/"
        },
        "id": "SwMxJi-TDzDa",
        "outputId": "30eb6daf-a5eb-4648-8d2d-74177320bffd"
      },
      "execution_count": null,
      "outputs": [
        {
          "output_type": "stream",
          "name": "stdout",
          "text": [
            "digite um número: 3.9846549\n",
            "o número 3.9846549 tem a parte inteira 3\n"
          ]
        }
      ]
    },
    {
      "cell_type": "code",
      "source": [
        "from random import randint\n",
        "na = int(input('quantos alunos?'))\n",
        "s = randint(1,na)\n",
        "print(f'o aluno sorteado para apagar o quadro foi o aluno {s}')"
      ],
      "metadata": {
        "colab": {
          "base_uri": "https://localhost:8080/"
        },
        "id": "aFHrEROoE785",
        "outputId": "8c7bac72-4cad-4d76-8f0b-69e813bacb32"
      },
      "execution_count": null,
      "outputs": [
        {
          "output_type": "stream",
          "name": "stdout",
          "text": [
            "quantos alunos?43\n",
            "o aluno sorteado para apagar o quadro foi o aluno 30\n"
          ]
        }
      ]
    },
    {
      "cell_type": "code",
      "source": [
        "from math import hypot\n",
        "cto = float(input())\n",
        "cta = float(input())\n",
        "hi = hypot(cto, cta)\n",
        "\n",
        "print(f'hipotenusa mede: {hi:.2f}')"
      ],
      "metadata": {
        "id": "yrs-c5EVG8uI",
        "colab": {
          "base_uri": "https://localhost:8080/"
        },
        "outputId": "67c8881d-672e-4042-8fd9-0477aa9b1614"
      },
      "execution_count": null,
      "outputs": [
        {
          "output_type": "stream",
          "name": "stdout",
          "text": [
            "3.5\n",
            "4.75\n",
            "hipotenusa mede: 5.90\n"
          ]
        }
      ]
    }
  ]
}